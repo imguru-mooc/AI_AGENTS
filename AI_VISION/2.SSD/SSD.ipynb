{
  "nbformat": 4,
  "nbformat_minor": 0,
  "metadata": {
    "colab": {
      "provenance": [],
      "gpuType": "T4"
    },
    "kernelspec": {
      "name": "python3",
      "display_name": "Python 3"
    },
    "language_info": {
      "name": "python"
    },
    "accelerator": "GPU"
  },
  "cells": [
    {
      "cell_type": "code",
      "execution_count": 1,
      "metadata": {
        "id": "iRX9cWQh2RGX",
        "outputId": "9e667646-3287-4830-bbe3-df7080708b7f",
        "colab": {
          "base_uri": "https://localhost:8080/"
        }
      },
      "outputs": [
        {
          "output_type": "stream",
          "name": "stdout",
          "text": [
            "--2025-08-06 01:08:59--  https://github.com/imguru-mooc/AI_VISION/raw/main/4_day/2.SSD/2.SSD.zip\n",
            "Resolving github.com (github.com)... 140.82.114.3\n",
            "Connecting to github.com (github.com)|140.82.114.3|:443... connected.\n",
            "HTTP request sent, awaiting response... 302 Found\n",
            "Location: https://raw.githubusercontent.com/imguru-mooc/AI_VISION/main/4_day/2.SSD/2.SSD.zip [following]\n",
            "--2025-08-06 01:08:59--  https://raw.githubusercontent.com/imguru-mooc/AI_VISION/main/4_day/2.SSD/2.SSD.zip\n",
            "Resolving raw.githubusercontent.com (raw.githubusercontent.com)... 185.199.108.133, 185.199.109.133, 185.199.110.133, ...\n",
            "Connecting to raw.githubusercontent.com (raw.githubusercontent.com)|185.199.108.133|:443... connected.\n",
            "HTTP request sent, awaiting response... 200 OK\n",
            "Length: 422923 (413K) [application/zip]\n",
            "Saving to: ‘2.SSD.zip’\n",
            "\n",
            "2.SSD.zip           100%[===================>] 413.01K  --.-KB/s    in 0.05s   \n",
            "\n",
            "2025-08-06 01:08:59 (8.78 MB/s) - ‘2.SSD.zip’ saved [422923/422923]\n",
            "\n"
          ]
        }
      ],
      "source": [
        "!wget https://github.com/imguru-mooc/AI_VISION/raw/main/4_day/2.SSD/2.SSD.zip"
      ]
    },
    {
      "cell_type": "code",
      "source": [
        "!unzip 2.SSD.zip"
      ],
      "metadata": {
        "id": "G7kCO4Q92g6_",
        "outputId": "2730fec5-8f1c-4ab5-c3e4-aa072d4eda8e",
        "colab": {
          "base_uri": "https://localhost:8080/"
        }
      },
      "execution_count": 2,
      "outputs": [
        {
          "output_type": "stream",
          "name": "stdout",
          "text": [
            "Archive:  2.SSD.zip\n",
            "  inflating: calibril.ttf            \n",
            "  inflating: create_data_lists.py    \n",
            "  inflating: datasets.py             \n",
            "  inflating: detect.py               \n",
            "  inflating: eval.py                 \n",
            "  inflating: model.py                \n",
            "  inflating: train.py                \n",
            "  inflating: utils.py                \n"
          ]
        }
      ]
    },
    {
      "cell_type": "code",
      "source": [
        "!gdown https://drive.google.com/uc?id=1t6-9sxNIhY2yRPoICK_djPQycQUtezf6"
      ],
      "metadata": {
        "id": "WNKoRJi_27V0",
        "outputId": "6e5ffd5a-c978-4288-ea25-e0f46522603b",
        "colab": {
          "base_uri": "https://localhost:8080/"
        }
      },
      "execution_count": 4,
      "outputs": [
        {
          "output_type": "stream",
          "name": "stdout",
          "text": [
            "Downloading...\n",
            "From (original): https://drive.google.com/uc?id=1t6-9sxNIhY2yRPoICK_djPQycQUtezf6\n",
            "From (redirected): https://drive.google.com/uc?id=1t6-9sxNIhY2yRPoICK_djPQycQUtezf6&confirm=t&uuid=4e2e32e0-0278-4f4f-b62b-279090496742\n",
            "To: /content/checkpoint_ssd300.pth.tar\n",
            "100% 105M/105M [00:02<00:00, 40.7MB/s]\n"
          ]
        }
      ]
    },
    {
      "cell_type": "code",
      "source": [
        "# https://drive.google.com/file/d/1EHCdOz5b03XQCFDlQRf5-pG_spdbHit6/view?usp=sharing\n",
        "\n",
        "file_id = '1EHCdOz5b03XQCFDlQRf5-pG_spdbHit6'  # 여기에 파일 ID 입력\n",
        "# 다운로드\n",
        "!gdown https://drive.google.com/uc?id={file_id}\n"
      ],
      "metadata": {
        "id": "QewMvyj03sBO",
        "outputId": "b20ef5a2-a821-49a0-83e5-b125f842939a",
        "colab": {
          "base_uri": "https://localhost:8080/"
        }
      },
      "execution_count": 6,
      "outputs": [
        {
          "output_type": "stream",
          "name": "stdout",
          "text": [
            "Downloading...\n",
            "From: https://drive.google.com/uc?id=1EHCdOz5b03XQCFDlQRf5-pG_spdbHit6\n",
            "To: /content/VOCdevkit.zip\n",
            "\r  0% 0.00/4.54M [00:00<?, ?B/s]\r100% 4.54M/4.54M [00:00<00:00, 276MB/s]\n"
          ]
        }
      ]
    },
    {
      "cell_type": "code",
      "source": [
        "!unzip /content/VOCdevkit.zip"
      ],
      "metadata": {
        "id": "op5m0u0TTHX1",
        "outputId": "1d6a33c7-0b38-45ff-89ea-359e8e757dca",
        "colab": {
          "base_uri": "https://localhost:8080/"
        }
      },
      "execution_count": 7,
      "outputs": [
        {
          "output_type": "stream",
          "name": "stdout",
          "text": [
            "Archive:  /content/VOCdevkit.zip\n",
            "   creating: VOCdevkit/\n",
            "   creating: VOCdevkit/VOC2007/\n",
            "   creating: VOCdevkit/VOC2007/Annotations/\n",
            "  inflating: VOCdevkit/VOC2007/Annotations/000005.xml  \n",
            "  inflating: VOCdevkit/VOC2007/Annotations/000007.xml  \n",
            "  inflating: VOCdevkit/VOC2007/Annotations/000009.xml  \n",
            "  inflating: VOCdevkit/VOC2007/Annotations/000012.xml  \n",
            "  inflating: VOCdevkit/VOC2007/Annotations/000016.xml  \n",
            "  inflating: VOCdevkit/VOC2007/Annotations/000017.xml  \n",
            "  inflating: VOCdevkit/VOC2007/Annotations/000019.xml  \n",
            "  inflating: VOCdevkit/VOC2007/Annotations/000020.xml  \n",
            "  inflating: VOCdevkit/VOC2007/Annotations/000021.xml  \n",
            "  inflating: VOCdevkit/VOC2007/Annotations/000023.xml  \n",
            "  inflating: VOCdevkit/VOC2007/Annotations/000024.xml  \n",
            "  inflating: VOCdevkit/VOC2007/Annotations/000026.xml  \n",
            "  inflating: VOCdevkit/VOC2007/Annotations/000030.xml  \n",
            "  inflating: VOCdevkit/VOC2007/Annotations/000032.xml  \n",
            "  inflating: VOCdevkit/VOC2007/Annotations/000033.xml  \n",
            "  inflating: VOCdevkit/VOC2007/Annotations/000034.xml  \n",
            "  inflating: VOCdevkit/VOC2007/Annotations/000035.xml  \n",
            "  inflating: VOCdevkit/VOC2007/Annotations/000036.xml  \n",
            "  inflating: VOCdevkit/VOC2007/Annotations/000039.xml  \n",
            "  inflating: VOCdevkit/VOC2007/Annotations/000041.xml  \n",
            "  inflating: VOCdevkit/VOC2007/Annotations/000042.xml  \n",
            "  inflating: VOCdevkit/VOC2007/Annotations/000044.xml  \n",
            "  inflating: VOCdevkit/VOC2007/Annotations/000046.xml  \n",
            "  inflating: VOCdevkit/VOC2007/Annotations/000047.xml  \n",
            "  inflating: VOCdevkit/VOC2007/Annotations/000048.xml  \n",
            "  inflating: VOCdevkit/VOC2007/Annotations/000050.xml  \n",
            "  inflating: VOCdevkit/VOC2007/Annotations/000051.xml  \n",
            "  inflating: VOCdevkit/VOC2007/Annotations/000052.xml  \n",
            "  inflating: VOCdevkit/VOC2007/Annotations/000060.xml  \n",
            "  inflating: VOCdevkit/VOC2007/Annotations/000061.xml  \n",
            "  inflating: VOCdevkit/VOC2007/Annotations/000063.xml  \n",
            "  inflating: VOCdevkit/VOC2007/Annotations/000064.xml  \n",
            "  inflating: VOCdevkit/VOC2007/Annotations/000065.xml  \n",
            "  inflating: VOCdevkit/VOC2007/Annotations/000066.xml  \n",
            "  inflating: VOCdevkit/VOC2007/Annotations/000072.xml  \n",
            "  inflating: VOCdevkit/VOC2007/Annotations/000073.xml  \n",
            "  inflating: VOCdevkit/VOC2007/Annotations/000077.xml  \n",
            "  inflating: VOCdevkit/VOC2007/Annotations/000078.xml  \n",
            "  inflating: VOCdevkit/VOC2007/Annotations/000081.xml  \n",
            "  inflating: VOCdevkit/VOC2007/Annotations/000083.xml  \n",
            "  inflating: VOCdevkit/VOC2007/Annotations/000089.xml  \n",
            "  inflating: VOCdevkit/VOC2007/Annotations/000091.xml  \n",
            "  inflating: VOCdevkit/VOC2007/Annotations/000093.xml  \n",
            "  inflating: VOCdevkit/VOC2007/Annotations/000095.xml  \n",
            "  inflating: VOCdevkit/VOC2007/Annotations/000099.xml  \n",
            "   creating: VOCdevkit/VOC2007/ImageSets/\n",
            "   creating: VOCdevkit/VOC2007/ImageSets/Layout/\n",
            "  inflating: VOCdevkit/VOC2007/ImageSets/Layout/train.txt  \n",
            "  inflating: VOCdevkit/VOC2007/ImageSets/Layout/trainval.txt  \n",
            "  inflating: VOCdevkit/VOC2007/ImageSets/Layout/val.txt  \n",
            "   creating: VOCdevkit/VOC2007/ImageSets/Main/\n",
            "  inflating: VOCdevkit/VOC2007/ImageSets/Main/aeroplane_train.txt  \n",
            "  inflating: VOCdevkit/VOC2007/ImageSets/Main/aeroplane_trainval.txt  \n",
            "  inflating: VOCdevkit/VOC2007/ImageSets/Main/aeroplane_val.txt  \n",
            "  inflating: VOCdevkit/VOC2007/ImageSets/Main/bicycle_train.txt  \n",
            "  inflating: VOCdevkit/VOC2007/ImageSets/Main/bicycle_trainval.txt  \n",
            "  inflating: VOCdevkit/VOC2007/ImageSets/Main/bicycle_val.txt  \n",
            "  inflating: VOCdevkit/VOC2007/ImageSets/Main/bird_train.txt  \n",
            "  inflating: VOCdevkit/VOC2007/ImageSets/Main/bird_trainval.txt  \n",
            "  inflating: VOCdevkit/VOC2007/ImageSets/Main/bird_val.txt  \n",
            "  inflating: VOCdevkit/VOC2007/ImageSets/Main/boat_train.txt  \n",
            "  inflating: VOCdevkit/VOC2007/ImageSets/Main/boat_trainval.txt  \n",
            "  inflating: VOCdevkit/VOC2007/ImageSets/Main/boat_val.txt  \n",
            "  inflating: VOCdevkit/VOC2007/ImageSets/Main/bottle_train.txt  \n",
            "  inflating: VOCdevkit/VOC2007/ImageSets/Main/bottle_trainval.txt  \n",
            "  inflating: VOCdevkit/VOC2007/ImageSets/Main/bottle_val.txt  \n",
            "  inflating: VOCdevkit/VOC2007/ImageSets/Main/bus_train.txt  \n",
            "  inflating: VOCdevkit/VOC2007/ImageSets/Main/bus_trainval.txt  \n",
            "  inflating: VOCdevkit/VOC2007/ImageSets/Main/bus_val.txt  \n",
            "  inflating: VOCdevkit/VOC2007/ImageSets/Main/car_train.txt  \n",
            "  inflating: VOCdevkit/VOC2007/ImageSets/Main/car_trainval.txt  \n",
            "  inflating: VOCdevkit/VOC2007/ImageSets/Main/car_val.txt  \n",
            "  inflating: VOCdevkit/VOC2007/ImageSets/Main/cat_train.txt  \n",
            "  inflating: VOCdevkit/VOC2007/ImageSets/Main/cat_trainval.txt  \n",
            "  inflating: VOCdevkit/VOC2007/ImageSets/Main/cat_val.txt  \n",
            "  inflating: VOCdevkit/VOC2007/ImageSets/Main/chair_train.txt  \n",
            "  inflating: VOCdevkit/VOC2007/ImageSets/Main/chair_trainval.txt  \n",
            "  inflating: VOCdevkit/VOC2007/ImageSets/Main/chair_val.txt  \n",
            "  inflating: VOCdevkit/VOC2007/ImageSets/Main/cow_train.txt  \n",
            "  inflating: VOCdevkit/VOC2007/ImageSets/Main/cow_trainval.txt  \n",
            "  inflating: VOCdevkit/VOC2007/ImageSets/Main/cow_val.txt  \n",
            "  inflating: VOCdevkit/VOC2007/ImageSets/Main/diningtable_train.txt  \n",
            "  inflating: VOCdevkit/VOC2007/ImageSets/Main/diningtable_trainval.txt  \n",
            "  inflating: VOCdevkit/VOC2007/ImageSets/Main/diningtable_val.txt  \n",
            "  inflating: VOCdevkit/VOC2007/ImageSets/Main/dog_train.txt  \n",
            "  inflating: VOCdevkit/VOC2007/ImageSets/Main/dog_trainval.txt  \n",
            "  inflating: VOCdevkit/VOC2007/ImageSets/Main/dog_val.txt  \n",
            "  inflating: VOCdevkit/VOC2007/ImageSets/Main/horse_train.txt  \n",
            "  inflating: VOCdevkit/VOC2007/ImageSets/Main/horse_trainval.txt  \n",
            "  inflating: VOCdevkit/VOC2007/ImageSets/Main/horse_val.txt  \n",
            "  inflating: VOCdevkit/VOC2007/ImageSets/Main/motorbike_train.txt  \n",
            "  inflating: VOCdevkit/VOC2007/ImageSets/Main/motorbike_trainval.txt  \n",
            "  inflating: VOCdevkit/VOC2007/ImageSets/Main/motorbike_val.txt  \n",
            "  inflating: VOCdevkit/VOC2007/ImageSets/Main/person_train.txt  \n",
            "  inflating: VOCdevkit/VOC2007/ImageSets/Main/person_trainval.txt  \n",
            "  inflating: VOCdevkit/VOC2007/ImageSets/Main/person_val.txt  \n",
            "  inflating: VOCdevkit/VOC2007/ImageSets/Main/pottedplant_train.txt  \n",
            "  inflating: VOCdevkit/VOC2007/ImageSets/Main/pottedplant_trainval.txt  \n",
            "  inflating: VOCdevkit/VOC2007/ImageSets/Main/pottedplant_val.txt  \n",
            "  inflating: VOCdevkit/VOC2007/ImageSets/Main/sheep_train.txt  \n",
            "  inflating: VOCdevkit/VOC2007/ImageSets/Main/sheep_trainval.txt  \n",
            "  inflating: VOCdevkit/VOC2007/ImageSets/Main/sheep_val.txt  \n",
            "  inflating: VOCdevkit/VOC2007/ImageSets/Main/sofa_train.txt  \n",
            "  inflating: VOCdevkit/VOC2007/ImageSets/Main/sofa_trainval.txt  \n",
            "  inflating: VOCdevkit/VOC2007/ImageSets/Main/sofa_val.txt  \n",
            "  inflating: VOCdevkit/VOC2007/ImageSets/Main/train.txt  \n",
            "  inflating: VOCdevkit/VOC2007/ImageSets/Main/trainval.txt  \n",
            "  inflating: VOCdevkit/VOC2007/ImageSets/Main/train_train.txt  \n",
            "  inflating: VOCdevkit/VOC2007/ImageSets/Main/train_trainval.txt  \n",
            "  inflating: VOCdevkit/VOC2007/ImageSets/Main/train_val.txt  \n",
            "  inflating: VOCdevkit/VOC2007/ImageSets/Main/tvmonitor_train.txt  \n",
            "  inflating: VOCdevkit/VOC2007/ImageSets/Main/tvmonitor_trainval.txt  \n",
            "  inflating: VOCdevkit/VOC2007/ImageSets/Main/tvmonitor_val.txt  \n",
            "  inflating: VOCdevkit/VOC2007/ImageSets/Main/val.txt  \n",
            "   creating: VOCdevkit/VOC2007/ImageSets/Segmentation/\n",
            "  inflating: VOCdevkit/VOC2007/ImageSets/Segmentation/train.txt  \n",
            "  inflating: VOCdevkit/VOC2007/ImageSets/Segmentation/trainval.txt  \n",
            "  inflating: VOCdevkit/VOC2007/ImageSets/Segmentation/val.txt  \n",
            "   creating: VOCdevkit/VOC2007/JPEGImages/\n",
            "  inflating: VOCdevkit/VOC2007/JPEGImages/000005.jpg  \n",
            "  inflating: VOCdevkit/VOC2007/JPEGImages/000007.jpg  \n",
            "  inflating: VOCdevkit/VOC2007/JPEGImages/000009.jpg  \n",
            "  inflating: VOCdevkit/VOC2007/JPEGImages/000012.jpg  \n",
            "  inflating: VOCdevkit/VOC2007/JPEGImages/000016.jpg  \n",
            "  inflating: VOCdevkit/VOC2007/JPEGImages/000017.jpg  \n",
            "  inflating: VOCdevkit/VOC2007/JPEGImages/000019.jpg  \n",
            "  inflating: VOCdevkit/VOC2007/JPEGImages/000020.jpg  \n",
            "  inflating: VOCdevkit/VOC2007/JPEGImages/000021.jpg  \n",
            "  inflating: VOCdevkit/VOC2007/JPEGImages/000023.jpg  \n",
            "  inflating: VOCdevkit/VOC2007/JPEGImages/000024.jpg  \n",
            "  inflating: VOCdevkit/VOC2007/JPEGImages/000026.jpg  \n",
            "  inflating: VOCdevkit/VOC2007/JPEGImages/000030.jpg  \n",
            "  inflating: VOCdevkit/VOC2007/JPEGImages/000032.jpg  \n",
            "  inflating: VOCdevkit/VOC2007/JPEGImages/000033.jpg  \n",
            "  inflating: VOCdevkit/VOC2007/JPEGImages/000034.jpg  \n",
            "  inflating: VOCdevkit/VOC2007/JPEGImages/000035.jpg  \n",
            "  inflating: VOCdevkit/VOC2007/JPEGImages/000036.jpg  \n",
            "  inflating: VOCdevkit/VOC2007/JPEGImages/000039.jpg  \n",
            "  inflating: VOCdevkit/VOC2007/JPEGImages/000041.jpg  \n",
            "  inflating: VOCdevkit/VOC2007/JPEGImages/000042.jpg  \n",
            "  inflating: VOCdevkit/VOC2007/JPEGImages/000044.jpg  \n",
            "  inflating: VOCdevkit/VOC2007/JPEGImages/000046.jpg  \n",
            "  inflating: VOCdevkit/VOC2007/JPEGImages/000047.jpg  \n",
            "  inflating: VOCdevkit/VOC2007/JPEGImages/000048.jpg  \n",
            "  inflating: VOCdevkit/VOC2007/JPEGImages/000050.jpg  \n",
            "  inflating: VOCdevkit/VOC2007/JPEGImages/000051.jpg  \n",
            "  inflating: VOCdevkit/VOC2007/JPEGImages/000052.jpg  \n",
            "  inflating: VOCdevkit/VOC2007/JPEGImages/000060.jpg  \n",
            "  inflating: VOCdevkit/VOC2007/JPEGImages/000061.jpg  \n",
            "  inflating: VOCdevkit/VOC2007/JPEGImages/000063.jpg  \n",
            "  inflating: VOCdevkit/VOC2007/JPEGImages/000064.jpg  \n",
            "  inflating: VOCdevkit/VOC2007/JPEGImages/000065.jpg  \n",
            "  inflating: VOCdevkit/VOC2007/JPEGImages/000066.jpg  \n",
            "  inflating: VOCdevkit/VOC2007/JPEGImages/000072.jpg  \n",
            "  inflating: VOCdevkit/VOC2007/JPEGImages/000073.jpg  \n",
            "  inflating: VOCdevkit/VOC2007/JPEGImages/000077.jpg  \n",
            "  inflating: VOCdevkit/VOC2007/JPEGImages/000078.jpg  \n",
            "  inflating: VOCdevkit/VOC2007/JPEGImages/000081.jpg  \n",
            "  inflating: VOCdevkit/VOC2007/JPEGImages/000083.jpg  \n",
            "  inflating: VOCdevkit/VOC2007/JPEGImages/000089.jpg  \n",
            "  inflating: VOCdevkit/VOC2007/JPEGImages/000091.jpg  \n",
            "  inflating: VOCdevkit/VOC2007/JPEGImages/000093.jpg  \n",
            "  inflating: VOCdevkit/VOC2007/JPEGImages/000095.jpg  \n",
            "  inflating: VOCdevkit/VOC2007/JPEGImages/000099.jpg  \n",
            "   creating: VOCdevkit/VOC2007/SegmentationClass/\n",
            "  inflating: VOCdevkit/VOC2007/SegmentationClass/000032.png  \n",
            "  inflating: VOCdevkit/VOC2007/SegmentationClass/000033.png  \n",
            "  inflating: VOCdevkit/VOC2007/SegmentationClass/000039.png  \n",
            "  inflating: VOCdevkit/VOC2007/SegmentationClass/000042.png  \n",
            "  inflating: VOCdevkit/VOC2007/SegmentationClass/000061.png  \n",
            "  inflating: VOCdevkit/VOC2007/SegmentationClass/000063.png  \n",
            "   creating: VOCdevkit/VOC2007/SegmentationObject/\n",
            "  inflating: VOCdevkit/VOC2007/SegmentationObject/000032.png  \n",
            "  inflating: VOCdevkit/VOC2007/SegmentationObject/000033.png  \n",
            "  inflating: VOCdevkit/VOC2007/SegmentationObject/000039.png  \n",
            "  inflating: VOCdevkit/VOC2007/SegmentationObject/000042.png  \n",
            "  inflating: VOCdevkit/VOC2007/SegmentationObject/000061.png  \n",
            "  inflating: VOCdevkit/VOC2007/SegmentationObject/000063.png  \n"
          ]
        }
      ]
    },
    {
      "cell_type": "code",
      "source": [
        "from IPython.display import display\n",
        "from torchvision import transforms\n",
        "from utils import *\n",
        "from PIL import Image, ImageDraw, ImageFont\n",
        "\n",
        "device = torch.device(\"cuda\" if torch.cuda.is_available() else \"cpu\")\n",
        "\n",
        "# Load model checkpoint\n",
        "checkpoint = 'checkpoint_ssd300.pth.tar'\n",
        "checkpoint = torch.load(checkpoint)\n",
        "start_epoch = checkpoint['epoch'] + 1\n",
        "print('\\nLoaded checkpoint from epoch %d.\\n' % start_epoch)\n",
        "model = checkpoint['model']\n",
        "model = model.to(device)\n",
        "model.eval()\n",
        "\n",
        "# Transforms\n",
        "resize = transforms.Resize((300, 300))\n",
        "to_tensor = transforms.ToTensor()\n",
        "normalize = transforms.Normalize(mean=[0.485, 0.456, 0.406],\n",
        "                                 std=[0.229, 0.224, 0.225])"
      ],
      "metadata": {
        "id": "szvs5aWV9bes"
      },
      "execution_count": null,
      "outputs": []
    },
    {
      "cell_type": "code",
      "source": [
        "def detect(original_image, min_score, max_overlap, top_k, suppress=None):\n",
        "    \"\"\"\n",
        "    Detect objects in an image with a trained SSD300, and visualize the results.\n",
        "\n",
        "    :param original_image: image, a PIL Image\n",
        "    :param min_score: minimum threshold for a detected box to be considered a match for a certain class\n",
        "    :param max_overlap: maximum overlap two boxes can have so that the one with the lower score is not suppressed via Non-Maximum Suppression (NMS)\n",
        "    :param top_k: if there are a lot of resulting detection across all classes, keep only the top 'k'\n",
        "    :param suppress: classes that you know for sure cannot be in the image or you do not want in the image, a list\n",
        "    :return: annotated image, a PIL Image\n",
        "    \"\"\"\n",
        "\n",
        "    # Transform\n",
        "    image = normalize(to_tensor(resize(original_image)))\n",
        "\n",
        "    # Move to default device\n",
        "    image = image.to(device)\n",
        "\n",
        "    # Forward prop.\n",
        "    predicted_locs, predicted_scores = model(image.unsqueeze(0))\n",
        "\n",
        "    # Detect objects in SSD output\n",
        "    det_boxes, det_labels, det_scores = model.detect_objects(predicted_locs, predicted_scores, min_score=min_score,\n",
        "                                                             max_overlap=max_overlap, top_k=top_k)\n",
        "\n",
        "    # Move detections to the CPU\n",
        "    det_boxes = det_boxes[0].to('cpu')\n",
        "\n",
        "    # Transform to original image dimensions\n",
        "    original_dims = torch.FloatTensor(\n",
        "        [original_image.width, original_image.height, original_image.width, original_image.height]).unsqueeze(0)\n",
        "    det_boxes = det_boxes * original_dims\n",
        "\n",
        "    # Decode class integer labels\n",
        "    det_labels = [rev_label_map[l] for l in det_labels[0].to('cpu').tolist()]\n",
        "\n",
        "    # If no objects found, the detected labels will be set to ['0.'], i.e. ['background'] in SSD300.detect_objects() in model.py\n",
        "    if det_labels == ['background']:\n",
        "        # Just return original image\n",
        "        return original_image\n",
        "\n",
        "    # Annotate\n",
        "    annotated_image = original_image\n",
        "    draw = ImageDraw.Draw(annotated_image)\n",
        "    font = ImageFont.truetype(\"./calibril.ttf\", 15)\n",
        "\n",
        "    # Suppress specific classes, if needed\n",
        "    for i in range(det_boxes.size(0)):\n",
        "        if suppress is not None:\n",
        "            if det_labels[i] in suppress:\n",
        "                continue\n",
        "\n",
        "        # Boxes\n",
        "        box_location = det_boxes[i].tolist()\n",
        "        draw.rectangle(xy=box_location, outline=label_color_map[det_labels[i]])\n",
        "        draw.rectangle(xy=[l + 1. for l in box_location], outline=label_color_map[\n",
        "            det_labels[i]])  # a second rectangle at an offset of 1 pixel to increase line thickness\n",
        "        # draw.rectangle(xy=[l + 2. for l in box_location], outline=label_color_map[\n",
        "        #     det_labels[i]])  # a third rectangle at an offset of 1 pixel to increase line thickness\n",
        "        # draw.rectangle(xy=[l + 3. for l in box_location], outline=label_color_map[\n",
        "        #     det_labels[i]])  # a fourth rectangle at an offset of 1 pixel to increase line thickness\n",
        "\n",
        "        # Text\n",
        "        text_size = font.getsize(det_labels[i].upper())\n",
        "        # print(text_size)\n",
        "        # text_size = font.getbbox (det_labels[i].upper())\n",
        "        text_location = [box_location[0] + 2., box_location[1] - text_size[1]]\n",
        "        textbox_location = [box_location[0], box_location[1] - text_size[1], box_location[0] + text_size[0] + 4.,\n",
        "                            box_location[1]]\n",
        "        draw.rectangle(xy=textbox_location, fill=label_color_map[det_labels[i]])\n",
        "        draw.text(xy=text_location, text=det_labels[i].upper(), fill='white',\n",
        "                  font=font)\n",
        "    del draw\n",
        "\n",
        "    return annotated_image\n",
        "\n",
        "\n"
      ],
      "metadata": {
        "id": "UP2YXvrv3O-A"
      },
      "execution_count": null,
      "outputs": []
    },
    {
      "cell_type": "code",
      "source": [
        "if __name__ == '__main__':\n",
        "    img_path = '/content/VOCdevkit/VOC2007/JPEGImages/000015.jpg'\n",
        "    original_image = Image.open(img_path, mode='r')\n",
        "    original_image = original_image.convert('RGB')\n",
        "    annotated_image = detect(original_image, min_score=0.2, max_overlap=0.5, top_k=200)\n",
        "\n",
        "    display(annotated_image)"
      ],
      "metadata": {
        "id": "vrAdu0niUUb0"
      },
      "execution_count": null,
      "outputs": []
    },
    {
      "cell_type": "code",
      "source": [],
      "metadata": {
        "id": "6lpbrPrl9gGe"
      },
      "execution_count": null,
      "outputs": []
    }
  ]
}