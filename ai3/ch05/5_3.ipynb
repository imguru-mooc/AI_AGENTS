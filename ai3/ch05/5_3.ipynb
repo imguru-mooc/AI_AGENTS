{
  "cells": [
    {
      "cell_type": "markdown",
      "source": [
        "## ai3 소스 다운로드"
      ],
      "metadata": {
        "id": "uUhwmYy3Pczk"
      }
    },
    {
      "cell_type": "code",
      "source": [
        "import gdown\n",
        "import zipfile\n",
        "import os\n",
        "\n",
        "file_id = \"1IadstlphOgnU1LyWSRpZZI30IzVKJQb5\"\n",
        "gdown.download(f\"https://drive.google.com/uc?id={file_id}\", quiet=False)\n",
        "\n",
        "zip_path = \"/content/ai3.zip\"\n",
        "\n",
        "with zipfile.ZipFile(zip_path, 'r') as zip_ref:\n",
        "    zip_ref.extractall(\"ai3\")\n",
        "\n",
        "print(f\"압축 해제 완료\")\n",
        "\n",
        "os.chdir(\"/content/ai3/ch05\")"
      ],
      "metadata": {
        "colab": {
          "base_uri": "https://localhost:8080/"
        },
        "id": "WNgV3d-hPb5g",
        "outputId": "1fdef034-c320-4ab6-a066-2cc16c2b4495"
      },
      "execution_count": 2,
      "outputs": [
        {
          "output_type": "stream",
          "name": "stderr",
          "text": [
            "Downloading...\n",
            "From (original): https://drive.google.com/uc?id=1IadstlphOgnU1LyWSRpZZI30IzVKJQb5\n",
            "From (redirected): https://drive.google.com/uc?id=1IadstlphOgnU1LyWSRpZZI30IzVKJQb5&confirm=t&uuid=bfb7986e-1b4c-4291-a4ed-cafd6a14b41f\n",
            "To: /content/ai3.zip\n",
            "100%|██████████| 49.4M/49.4M [00:00<00:00, 125MB/s]\n"
          ]
        },
        {
          "output_type": "stream",
          "name": "stdout",
          "text": [
            "압축 해제 완료\n"
          ]
        }
      ]
    },
    {
      "cell_type": "markdown",
      "metadata": {
        "id": "ftPjtx25O0KW"
      },
      "source": [
        "### 임베딩 계층 테스트"
      ]
    },
    {
      "cell_type": "code",
      "execution_count": null,
      "metadata": {
        "scrolled": false,
        "id": "lAwBUsy8O0KY",
        "outputId": "f306bfa9-6e52-4dfa-c329-463c525f8b97"
      },
      "outputs": [
        {
          "name": "stdout",
          "output_type": "stream",
          "text": [
            "[0 1 2 3 4 1 5 6]\n",
            "[0 1 2 3 4 1 5]\n",
            "[1 2 3 4 1 5 6]\n",
            "(1, 3)\n",
            "[[0 1 2]]\n",
            "(1, 3)\n",
            "[[1 2 3]]\n",
            "[[ 0  1  2  3]\n",
            " [ 4  5  6  7]\n",
            " [ 8  9 10 11]\n",
            " [12 13 14 15]\n",
            " [16 17 18 19]\n",
            " [20 21 22 23]\n",
            " [24 25 26 27]]\n",
            "[[[ 0.  1.  2.  3.]\n",
            "  [ 4.  5.  6.  7.]\n",
            "  [ 8.  9. 10. 11.]]]\n"
          ]
        }
      ],
      "source": [
        "import numpy as np\n",
        "import sys\n",
        "sys.path.append('..')\n",
        "from common.np import *  # import numpy as np (or import cupy as np)\n",
        "from common.layers import *\n",
        "from common.time_layers import *\n",
        "\n",
        "corpus = np.array([0,1,2,3,4,1,5,6])\n",
        "print(corpus)\n",
        "xs = corpus[:-1]  # 입력\n",
        "print(xs)\n",
        "ts = corpus[1:]   # 출력(정답 레이블)\n",
        "print(ts)\n",
        "\n",
        "batch_size = 1\n",
        "time_size = 3\n",
        "batch_x = np.empty((batch_size, time_size), dtype='i')\n",
        "print(batch_x.shape)\n",
        "\n",
        "batch_x[0] = xs[:3]\n",
        "print(batch_x)\n",
        "\n",
        "batch_t = np.empty((batch_size, time_size), dtype='i')\n",
        "print(batch_t.shape)\n",
        "\n",
        "batch_t[0] = ts[:3]\n",
        "print(batch_t)\n",
        "\n",
        "embed_W = np.arange(28).reshape(7,4)\n",
        "print(embed_W)\n",
        "\n",
        "# embed = TimeEmbedding(embed_W)\n",
        "# out = embed.forward(batch_x)\n",
        "# print(out)\n",
        "\n",
        "out = np.empty((1, 3, 4), dtype='f')\n",
        "\n",
        "for t in range(3):\n",
        "    out[:, t, :] = embed_W[batch_x[:, t]]\n",
        "\n",
        "print(out)"
      ]
    },
    {
      "cell_type": "markdown",
      "metadata": {
        "id": "E2HgkJTwO0Kc"
      },
      "source": [
        "### RNN 계층 구현"
      ]
    },
    {
      "cell_type": "code",
      "execution_count": null,
      "metadata": {
        "id": "pAfXoDhVO0Kc"
      },
      "outputs": [],
      "source": [
        "import sys\n",
        "sys.path.append('..')\n",
        "from common.np import *  # import numpy as np (or import cupy as np)\n",
        "from common.layers import *\n",
        "from common.functions import sigmoid\n",
        "\n",
        "\n",
        "class MyRNN:\n",
        "    def __init__(self, Wx, Wh, b):\n",
        "        self.params = [Wx, Wh, b]\n",
        "        self.grads = [np.zeros_like(Wx), np.zeros_like(Wh), np.zeros_like(b)]\n",
        "        self.cache = None\n",
        "\n",
        "    def forward(self, x, h_prev):\n",
        "        Wx, Wh, b = self.params\n",
        "        t = np.dot(h_prev, Wh) + np.dot(x, Wx) + b\n",
        "        h_next = t #np.tanh(t)\n",
        "\n",
        "        self.cache = (x, h_prev, h_next)\n",
        "        return h_next\n",
        "\n",
        "    def backward(self, dh_next):\n",
        "        Wx, Wh, b = self.params\n",
        "        x, h_prev, h_next = self.cache\n",
        "\n",
        "        dt = dh_next #dh_next * (1 - h_next ** 2)\n",
        "\n",
        "        db = np.sum(dt, axis=0)\n",
        "        print('db=', db)\n",
        "        dWh = np.dot(h_prev.T, dt)\n",
        "        print('dWh=', dWh)\n",
        "        dh_prev = np.dot(dt, Wh.T)\n",
        "        print('dh_prev=', dh_prev)\n",
        "        dWx = np.dot(x.T, dt)\n",
        "        print('dWx=' , dWx)\n",
        "        dx = np.dot(dt, Wx.T)\n",
        "\n",
        "        self.grads[0][...] = dWx\n",
        "        self.grads[1][...] = dWh\n",
        "        self.grads[2][...] = db\n",
        "\n",
        "        return dx, dh_prev"
      ]
    },
    {
      "cell_type": "markdown",
      "metadata": {
        "id": "-N8EJ9LnO0Ke"
      },
      "source": [
        "### Time RNN 계층 구현"
      ]
    },
    {
      "cell_type": "code",
      "execution_count": null,
      "metadata": {
        "id": "pFMqV0EsO0Ke"
      },
      "outputs": [],
      "source": [
        "class MyTimeRNN:\n",
        "    def __init__(self, Wx, Wh, b, stateful=False):\n",
        "        self.params = [Wx, Wh, b]\n",
        "        self.grads = [np.zeros_like(Wx), np.zeros_like(Wh), np.zeros_like(b)]\n",
        "        self.layers = None\n",
        "\n",
        "        self.h, self.dh = None, None\n",
        "        self.stateful = stateful\n",
        "\n",
        "    def forward(self, xs):\n",
        "        Wx, Wh, b = self.params\n",
        "        N, T, D = xs.shape\n",
        "        D, H = Wx.shape\n",
        "\n",
        "        self.layers = []\n",
        "        hs = np.empty((N, T, H), dtype='f')\n",
        "\n",
        "        if not self.stateful or self.h is None:\n",
        "            self.h = np.zeros((N, H), dtype='f')\n",
        "\n",
        "        for t in range(T):\n",
        "            layer = MyRNN(*self.params)\n",
        "            self.h = layer.forward(xs[:, t, :], self.h)\n",
        "            hs[:, t, :] = self.h\n",
        "            self.layers.append(layer)\n",
        "\n",
        "        return hs\n",
        "\n",
        "    def backward(self, dhs):\n",
        "        Wx, Wh, b = self.params\n",
        "        N, T, H = dhs.shape\n",
        "        D, H = Wx.shape\n",
        "\n",
        "        dxs = np.empty((N, T, D), dtype='f')\n",
        "        dh = 0\n",
        "        grads = [0, 0, 0]\n",
        "        for t in reversed(range(T)):\n",
        "            layer = self.layers[t]\n",
        "            dx, dh = layer.backward(dhs[:, t, :] + dh)\n",
        "            dxs[:, t, :] = dx\n",
        "\n",
        "            for i, grad in enumerate(layer.grads):\n",
        "                grads[i] += grad\n",
        "\n",
        "        for i, grad in enumerate(grads):\n",
        "            self.grads[i][...] = grad\n",
        "        self.dh = dh\n",
        "\n",
        "        print('self.grads=',self.grads)\n",
        "        return dxs\n",
        "\n",
        "    def set_state(self, h):\n",
        "        self.h = h\n",
        "\n",
        "    def reset_state(self):\n",
        "        self.h = None"
      ]
    },
    {
      "cell_type": "code",
      "execution_count": null,
      "metadata": {
        "id": "pBKMAfNyO0Kg"
      },
      "outputs": [],
      "source": [
        "class MyEmbedding:\n",
        "    def __init__(self, W):\n",
        "        self.params = [W]\n",
        "        self.grads = [np.zeros_like(W)]\n",
        "        self.idx = None\n",
        "\n",
        "    def forward(self, idx):\n",
        "        W, = self.params\n",
        "        self.idx = idx\n",
        "        out = W[idx]\n",
        "        return out\n",
        "\n",
        "    def backward(self, dout):\n",
        "        dW, = self.grads\n",
        "        dW[...] = 0\n",
        "        np.add.at(dW, self.idx, dout)\n",
        "        print(\"dW=\", dW)\n",
        "        return None"
      ]
    },
    {
      "cell_type": "code",
      "execution_count": null,
      "metadata": {
        "id": "fyomde_LO0Kh"
      },
      "outputs": [],
      "source": [
        "class MyTimeEmbedding:\n",
        "    def __init__(self, W):\n",
        "        self.params = [W]\n",
        "        self.grads = [np.zeros_like(W)]\n",
        "        self.layers = None\n",
        "        self.W = W\n",
        "\n",
        "    def forward(self, xs):\n",
        "        N, T = xs.shape\n",
        "        V, D = self.W.shape\n",
        "\n",
        "        out = np.empty((N, T, D), dtype='f')\n",
        "        self.layers = []\n",
        "\n",
        "        for t in range(T):\n",
        "            layer = MyEmbedding(self.W)\n",
        "            out[:, t, :] = layer.forward(xs[:, t])\n",
        "            self.layers.append(layer)\n",
        "\n",
        "        return out\n",
        "\n",
        "    def backward(self, dout):\n",
        "        N, T, D = dout.shape\n",
        "\n",
        "        grad = 0\n",
        "        for t in range(T):\n",
        "            layer = self.layers[t]\n",
        "            layer.backward(dout[:, t, :])\n",
        "            grad += layer.grads[0]\n",
        "\n",
        "        self.grads[0][...] = grad\n",
        "        print('self.grads=',self.grads)\n",
        "        return None"
      ]
    },
    {
      "cell_type": "markdown",
      "metadata": {
        "id": "Tnhz73UUO0Kj"
      },
      "source": [
        "### Time Rnn 테스트"
      ]
    },
    {
      "cell_type": "code",
      "execution_count": null,
      "metadata": {
        "id": "qwMm-y6fO0Kj",
        "outputId": "0cc2f9c0-cc09-4fd2-e87c-13e08c8999f4"
      },
      "outputs": [
        {
          "name": "stdout",
          "output_type": "stream",
          "text": [
            "[[[ 0.  1.  2.  3.]\n",
            "  [ 4.  5.  6.  7.]\n",
            "  [ 8.  9. 10. 11.]]]\n",
            "[[1. 1. 1.]\n",
            " [1. 1. 1.]\n",
            " [1. 1. 1.]\n",
            " [1. 1. 1.]]\n",
            "[[1. 1. 1.]\n",
            " [1. 1. 1.]\n",
            " [1. 1. 1.]]\n",
            "[3. 3. 3.]\n",
            "[[[  9.   9.   9.]\n",
            "  [ 52.  52.  52.]\n",
            "  [197. 197. 197.]]]\n"
          ]
        }
      ],
      "source": [
        "import numpy as np\n",
        "import sys\n",
        "sys.path.append('..')\n",
        "from common.np import *  # import numpy as np (or import cupy as np)\n",
        "from common.layers import *\n",
        "from common.time_layers import *\n",
        "\n",
        "corpus = np.array([0,1,2,3,4,1,5,6])\n",
        "# print(copus)\n",
        "xs = corpus[:-1]  # 입력\n",
        "# print(xs)\n",
        "ts = corpus[1:]   # 출력(정답 레이블)\n",
        "# print(ts)\n",
        "\n",
        "batch_size = 1\n",
        "time_size = 3\n",
        "batch_x = np.empty((batch_size, time_size), dtype='i')\n",
        "# print(batch_x.shape)\n",
        "\n",
        "batch_x[0] = xs[:3]\n",
        "# print(batch_x)\n",
        "\n",
        "batch_t = np.empty((batch_size, time_size), dtype='i')\n",
        "# print(batch_t.shape)\n",
        "\n",
        "batch_t[0] = ts[:3]\n",
        "# print(batch_t)\n",
        "\n",
        "embed_W = np.arange(28).reshape(7,4)\n",
        "# print(embed_W)\n",
        "\n",
        "embed = MyTimeEmbedding(embed_W)\n",
        "out = embed.forward(batch_x)\n",
        "print(out)\n",
        "\n",
        "rnn_Wx = np.ones((4,3), dtype='f')\n",
        "print(rnn_Wx)\n",
        "rnn_Wh = np.ones((3,3), dtype='f')\n",
        "print(rnn_Wh)\n",
        "rnn_b = np.full((3,),3, dtype='f')\n",
        "print(rnn_b)\n",
        "rnn = MyTimeRNN(rnn_Wx, rnn_Wh, rnn_b)\n",
        "out = rnn.forward(out)\n",
        "print(out)"
      ]
    },
    {
      "cell_type": "code",
      "execution_count": null,
      "metadata": {
        "id": "E3cS87bMO0Kl",
        "outputId": "029bb833-d3f7-4af0-fd14-cf891067b738"
      },
      "outputs": [
        {
          "name": "stdout",
          "output_type": "stream",
          "text": [
            "db= [3 3 3]\n",
            "dWh= [[156. 156. 156.]\n",
            " [156. 156. 156.]\n",
            " [156. 156. 156.]]\n",
            "dh_prev= [[9. 9. 9.]]\n",
            "dWx= [[24. 24. 24.]\n",
            " [27. 27. 27.]\n",
            " [30. 30. 30.]\n",
            " [33. 33. 33.]]\n",
            "db= [11. 11. 11.]\n",
            "dWh= [[99. 99. 99.]\n",
            " [99. 99. 99.]\n",
            " [99. 99. 99.]]\n",
            "dh_prev= [[33. 33. 33.]]\n",
            "dWx= [[44. 44. 44.]\n",
            " [55. 55. 55.]\n",
            " [66. 66. 66.]\n",
            " [77. 77. 77.]]\n",
            "db= [34. 34. 34.]\n",
            "dWh= [[0. 0. 0.]\n",
            " [0. 0. 0.]\n",
            " [0. 0. 0.]]\n",
            "dh_prev= [[102. 102. 102.]]\n",
            "dWx= [[  0.   0.   0.]\n",
            " [ 34.  34.  34.]\n",
            " [ 68.  68.  68.]\n",
            " [102. 102. 102.]]\n",
            "self.grads= [array([[ 68.,  68.,  68.],\n",
            "       [116., 116., 116.],\n",
            "       [164., 164., 164.],\n",
            "       [212., 212., 212.]], dtype=float32), array([[255., 255., 255.],\n",
            "       [255., 255., 255.],\n",
            "       [255., 255., 255.]], dtype=float32), array([48., 48., 48.], dtype=float32)]\n",
            "[[[102. 102. 102. 102.]\n",
            "  [ 33.  33.  33.  33.]\n",
            "  [  9.   9.   9.   9.]]]\n"
          ]
        }
      ],
      "source": [
        "dout = np.array([[[1,1,1],\n",
        "                  [2,2,2],\n",
        "                  [3,3,3]]])\n",
        "dxs = rnn.backward(dout)\n",
        "print(dxs)"
      ]
    },
    {
      "cell_type": "code",
      "execution_count": null,
      "metadata": {
        "id": "PkLNrGYnO0Kl",
        "outputId": "a6a083b6-124d-4965-e623-e28d887c8f18"
      },
      "outputs": [
        {
          "name": "stdout",
          "output_type": "stream",
          "text": [
            "dW= [[102 102 102 102]\n",
            " [  0   0   0   0]\n",
            " [  0   0   0   0]\n",
            " [  0   0   0   0]\n",
            " [  0   0   0   0]\n",
            " [  0   0   0   0]\n",
            " [  0   0   0   0]]\n",
            "dW= [[ 0  0  0  0]\n",
            " [33 33 33 33]\n",
            " [ 0  0  0  0]\n",
            " [ 0  0  0  0]\n",
            " [ 0  0  0  0]\n",
            " [ 0  0  0  0]\n",
            " [ 0  0  0  0]]\n",
            "dW= [[0 0 0 0]\n",
            " [0 0 0 0]\n",
            " [9 9 9 9]\n",
            " [0 0 0 0]\n",
            " [0 0 0 0]\n",
            " [0 0 0 0]\n",
            " [0 0 0 0]]\n",
            "self.grads= [array([[102, 102, 102, 102],\n",
            "       [ 33,  33,  33,  33],\n",
            "       [  9,   9,   9,   9],\n",
            "       [  0,   0,   0,   0],\n",
            "       [  0,   0,   0,   0],\n",
            "       [  0,   0,   0,   0],\n",
            "       [  0,   0,   0,   0]])]\n"
          ]
        }
      ],
      "source": [
        "embed.backward(dxs)"
      ]
    },
    {
      "cell_type": "markdown",
      "metadata": {
        "id": "4SmVn0UwO0Km"
      },
      "source": [
        "### TimeSoftfmax 분석"
      ]
    },
    {
      "cell_type": "code",
      "execution_count": null,
      "metadata": {
        "id": "OaMK3S4cO0Km",
        "outputId": "6818e24a-de39-483c-d4b0-415b98436f03"
      },
      "outputs": [
        {
          "name": "stdout",
          "output_type": "stream",
          "text": [
            "[ 1  9 17]\n"
          ]
        }
      ],
      "source": [
        "import numpy as np\n",
        "ts = np.array([1,2,3])\n",
        "ys = np.arange(21).reshape(3,7)\n",
        "print(ys[np.arange(1 * 3), ts])"
      ]
    },
    {
      "cell_type": "code",
      "execution_count": null,
      "metadata": {
        "id": "8i4TIUm9O0Km",
        "outputId": "e8efa392-ea86-4f94-fc72-fee060637f85"
      },
      "outputs": [
        {
          "name": "stdout",
          "output_type": "stream",
          "text": [
            "[[ 0  0  2  3  4  5  6]\n",
            " [ 7  8  8 10 11 12 13]\n",
            " [14 15 16 16 18 19 20]]\n"
          ]
        }
      ],
      "source": [
        "import numpy as np\n",
        "ts = np.array([1,2,3])\n",
        "ys = np.arange(21).reshape(3,7)\n",
        "dx = ys\n",
        "dx[np.arange(1 * 3), ts] -= 1\n",
        "print(dx)"
      ]
    },
    {
      "cell_type": "code",
      "execution_count": null,
      "metadata": {
        "id": "Kmtv5IjRO0Kn",
        "outputId": "b5152d67-0d23-4d19-d24e-232ea0be56f7"
      },
      "outputs": [
        {
          "name": "stdout",
          "output_type": "stream",
          "text": [
            "None\n"
          ]
        }
      ],
      "source": [
        "print(np.newaxis)"
      ]
    },
    {
      "cell_type": "code",
      "execution_count": null,
      "metadata": {
        "id": "lM4lq1EGO0Kn",
        "outputId": "256dcda6-5dfe-4dfb-bd61-6814d4943d0c"
      },
      "outputs": [
        {
          "name": "stdout",
          "output_type": "stream",
          "text": [
            "[1 0 1]\n",
            "[[1]\n",
            " [0]\n",
            " [1]]\n",
            "[[1]\n",
            " [0]\n",
            " [1]]\n",
            "[[ 0.   -0.3   0.03  0.    0.    2.66  0.  ]\n",
            " [ 0.   -0.    0.    0.    0.    0.    0.  ]\n",
            " [ 0.   -0.3   0.03  0.    0.    2.66  0.  ]]\n"
          ]
        }
      ],
      "source": [
        "mask = np.array([1,0,1])\n",
        "dx = np.array([[0,-0.3, 0.03, 0, 0, 2.66, 0 ],\n",
        "               [0,-0.3, 0.03, 0, 0, 2.66, 0 ],\n",
        "               [0,-0.3, 0.03, 0, 0, 2.66, 0 ]])\n",
        "dx *= mask[:, np.newaxis]\n",
        "print(mask)\n",
        "print(mask.reshape(3,1))\n",
        "print(mask[:, np.newaxis])\n",
        "print(dx)"
      ]
    },
    {
      "cell_type": "code",
      "execution_count": null,
      "metadata": {
        "id": "Air0zoBpO0Kn"
      },
      "outputs": [],
      "source": []
    }
  ],
  "metadata": {
    "kernelspec": {
      "display_name": "Python 3",
      "language": "python",
      "name": "python3"
    },
    "language_info": {
      "codemirror_mode": {
        "name": "ipython",
        "version": 3
      },
      "file_extension": ".py",
      "mimetype": "text/x-python",
      "name": "python",
      "nbconvert_exporter": "python",
      "pygments_lexer": "ipython3",
      "version": "3.8.5"
    },
    "colab": {
      "provenance": []
    }
  },
  "nbformat": 4,
  "nbformat_minor": 0
}