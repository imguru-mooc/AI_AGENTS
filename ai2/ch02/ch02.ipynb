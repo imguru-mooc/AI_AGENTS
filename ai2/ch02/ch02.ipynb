{
  "cells": [
    {
      "cell_type": "code",
      "source": [
        "import gdown\n",
        "import zipfile\n",
        "import os\n",
        "\n",
        "file_id = \"1dviMhTU9olu_AkMsDMf3xY3QtRIw_m2v\"\n",
        "gdown.download(f\"https://drive.google.com/uc?id={file_id}\", quiet=False)\n",
        "\n",
        "zip_path = \"/content/ai2.zip\"\n",
        "\n",
        "with zipfile.ZipFile(zip_path, 'r') as zip_ref:\n",
        "    zip_ref.extractall()\n",
        "\n",
        "print(f\"압축 해제 완료\")\n",
        "\n",
        "os.chdir(\"/content/ai2/ch02\")"
      ],
      "metadata": {
        "id": "e7eIkxUL5ncx"
      },
      "execution_count": null,
      "outputs": []
    },
    {
      "cell_type": "code",
      "execution_count": null,
      "metadata": {
        "id": "uT61Q9FW4Wcc",
        "colab": {
          "base_uri": "https://localhost:8080/"
        },
        "outputId": "550fab8c-c1eb-4d5a-adb9-8c2fc11ed37a"
      },
      "outputs": [
        {
          "output_type": "stream",
          "name": "stdout",
          "text": [
            "0\n",
            "0\n",
            "0\n",
            "1\n"
          ]
        }
      ],
      "source": [
        "def AND(x1, x2):\n",
        "    w1, w2, theta = 0.5, 0.5, 0.7\n",
        "    tmp = x1*w1 + x2*w2\n",
        "    if tmp <= theta:  # cmp tmp, theta => tmp - theta =>  SF, ZF, OF, CF\n",
        "        return 0\n",
        "    elif tmp > theta:\n",
        "        return 1\n",
        "\n",
        "print(AND(0, 0)) # 0 을 출력\n",
        "print(AND(0, 1)) # 0 을 출력\n",
        "print(AND(1, 0)) # 0 을 출력\n",
        "print(AND(1, 1)) # 1 을 출력"
      ]
    },
    {
      "cell_type": "code",
      "execution_count": null,
      "metadata": {
        "id": "stupy7iD4Wcf",
        "colab": {
          "base_uri": "https://localhost:8080/"
        },
        "outputId": "2958a3de-76c4-472b-e8c8-84086c4d8d50"
      },
      "outputs": [
        {
          "output_type": "stream",
          "name": "stdout",
          "text": [
            "0\n",
            "0\n",
            "0\n",
            "1\n"
          ]
        }
      ],
      "source": [
        "def AND(x1, x2):\n",
        "    w1, w2, b = 0.5, 0.5, -0.7\n",
        "    tmp = x1*w1 + x2*w2 + b\n",
        "    if tmp <= 0:\n",
        "        return 0\n",
        "    elif tmp > 0:\n",
        "        return 1\n",
        "\n",
        "print(AND(0, 0)) # 0 을 출력\n",
        "print(AND(0, 1)) # 0 을 출력\n",
        "print(AND(1, 0)) # 0 을 출력\n",
        "print(AND(1, 1)) # 1 을 출력"
      ]
    },
    {
      "cell_type": "code",
      "execution_count": null,
      "metadata": {
        "id": "DfLsOFb44Wcf",
        "colab": {
          "base_uri": "https://localhost:8080/"
        },
        "outputId": "8ba424ec-d11a-4e42-fb80-1a2694b6a18c"
      },
      "outputs": [
        {
          "output_type": "stream",
          "name": "stdout",
          "text": [
            "(0, 0) -> 0\n",
            "(0, 1) -> 0\n",
            "(1, 0) -> 0\n",
            "(1, 1) -> 1\n"
          ]
        }
      ],
      "source": [
        "import numpy as np\n",
        "\n",
        "def AND(x1, x2):\n",
        "    x = np.array([x1, x2])\n",
        "    w = np.array([0.5, 0.5])\n",
        "    b = -0.7\n",
        "    tmp = np.dot(x,w) + b\n",
        "    if tmp <= 0:\n",
        "        return 0\n",
        "    else:\n",
        "        return 1\n",
        "\n",
        "if __name__ == '__main__':\n",
        "    for xs in [(0, 0), (0, 1), (1, 0), (1, 1)]:\n",
        "        y = AND(xs[0], xs[1])\n",
        "        print(str(xs) + \" -> \" + str(y))"
      ]
    },
    {
      "cell_type": "code",
      "execution_count": null,
      "metadata": {
        "id": "VnEhzOSs4Wcf",
        "colab": {
          "base_uri": "https://localhost:8080/"
        },
        "outputId": "e8ecc498-d5c5-4859-b6f3-e1c5f4bdf3c2"
      },
      "outputs": [
        {
          "output_type": "stream",
          "name": "stdout",
          "text": [
            "(0, 0) -> 1\n",
            "(0, 1) -> 1\n",
            "(1, 0) -> 1\n",
            "(1, 1) -> 0\n"
          ]
        }
      ],
      "source": [
        "import numpy as np\n",
        "\n",
        "\n",
        "def NAND(x1, x2):\n",
        "    x = np.array([x1, x2])\n",
        "    w = np.array([-0.5, -0.5])\n",
        "    b = 0.7\n",
        "    tmp = np.sum(w*x) + b\n",
        "    if tmp <= 0:\n",
        "        return 0\n",
        "    else:\n",
        "        return 1\n",
        "\n",
        "if __name__ == '__main__':\n",
        "    for xs in [(0, 0), (0, 1), (1, 0), (1, 1)]:\n",
        "        y = NAND(xs[0], xs[1])\n",
        "        print(str(xs) + \" -> \" + str(y))"
      ]
    },
    {
      "cell_type": "code",
      "execution_count": null,
      "metadata": {
        "id": "c0L-Nzxh4Wcg",
        "colab": {
          "base_uri": "https://localhost:8080/"
        },
        "outputId": "fece9374-1c4f-41aa-9f87-80900703a84b"
      },
      "outputs": [
        {
          "output_type": "stream",
          "name": "stdout",
          "text": [
            "(0, 0) -> 0\n",
            "(0, 1) -> 1\n",
            "(1, 0) -> 1\n",
            "(1, 1) -> 1\n"
          ]
        }
      ],
      "source": [
        "import numpy as np\n",
        "\n",
        "\n",
        "def OR(x1, x2):\n",
        "    x = np.array([x1, x2])\n",
        "    w = np.array([0.5, 0.5])\n",
        "    b = -0.2\n",
        "    tmp = np.sum(w*x) + b\n",
        "    if tmp <= 0:\n",
        "        return 0\n",
        "    else:\n",
        "        return 1\n",
        "\n",
        "if __name__ == '__main__':\n",
        "    for xs in [(0, 0), (0, 1), (1, 0), (1, 1)]:\n",
        "        y = OR(xs[0], xs[1])\n",
        "        print(str(xs) + \" -> \" + str(y))"
      ]
    },
    {
      "cell_type": "code",
      "execution_count": null,
      "metadata": {
        "id": "8eXzcMkY4Wcg",
        "colab": {
          "base_uri": "https://localhost:8080/"
        },
        "outputId": "e488c717-d360-4c45-c2b3-487856fc642a"
      },
      "outputs": [
        {
          "output_type": "stream",
          "name": "stdout",
          "text": [
            "(0, 0) -> 0\n",
            "(0, 1) -> 1\n",
            "(1, 0) -> 1\n",
            "(1, 1) -> 0\n"
          ]
        }
      ],
      "source": [
        "from and_gate import AND\n",
        "from or_gate import OR\n",
        "from nand_gate import NAND\n",
        "\n",
        "\n",
        "def XOR(x1, x2):\n",
        "    s1 = NAND(x1, x2)\n",
        "    s2 = OR(x1, x2)\n",
        "    y = AND(s1, s2)\n",
        "    return y\n",
        "\n",
        "if __name__ == '__main__':\n",
        "    for xs in [(0, 0), (0, 1), (1, 0), (1, 1)]:\n",
        "        y = XOR(xs[0], xs[1])\n",
        "        print(str(xs) + \" -> \" + str(y))"
      ]
    },
    {
      "cell_type": "code",
      "execution_count": null,
      "metadata": {
        "id": "EF2dGZVO4Wcg"
      },
      "outputs": [],
      "source": []
    }
  ],
  "metadata": {
    "kernelspec": {
      "display_name": "Python 3 (ipykernel)",
      "language": "python",
      "name": "python3"
    },
    "language_info": {
      "codemirror_mode": {
        "name": "ipython",
        "version": 3
      },
      "file_extension": ".py",
      "mimetype": "text/x-python",
      "name": "python",
      "nbconvert_exporter": "python",
      "pygments_lexer": "ipython3",
      "version": "3.9.7"
    },
    "colab": {
      "provenance": []
    }
  },
  "nbformat": 4,
  "nbformat_minor": 0
}